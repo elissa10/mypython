{
  "nbformat": 4,
  "nbformat_minor": 0,
  "metadata": {
    "colab": {
      "provenance": [],
      "mount_file_id": "1_JIOf_tsz4DTGgAqFQ5l4wCfSsr-Mwgw",
      "authorship_tag": "ABX9TyNeN2GbfzWYJBwMgl25VfQ2",
      "include_colab_link": true
    },
    "kernelspec": {
      "name": "python3",
      "display_name": "Python 3"
    },
    "language_info": {
      "name": "python"
    }
  },
  "cells": [
    {
      "cell_type": "markdown",
      "metadata": {
        "id": "view-in-github",
        "colab_type": "text"
      },
      "source": [
        "<a href=\"https://colab.research.google.com/github/elissa10/mypython/blob/main/git_test.ipynb\" target=\"_parent\"><img src=\"https://colab.research.google.com/assets/colab-badge.svg\" alt=\"Open In Colab\"/></a>"
      ]
    },
    {
      "cell_type": "code",
      "execution_count": null,
      "metadata": {
        "id": "DV1Yx6VCO4if"
      },
      "outputs": [],
      "source": [
        "print(\"hello world\")\n",
        "print(\"hello python\")"
      ]
    }
  ]
}